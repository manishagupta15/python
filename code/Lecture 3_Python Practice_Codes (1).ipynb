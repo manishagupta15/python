{
 "cells": [
  {
   "cell_type": "markdown",
   "metadata": {},
   "source": [
    "# Lecture 3 In-Class Python Practice"
   ]
  },
  {
   "cell_type": "code",
   "execution_count": 1,
   "metadata": {},
   "outputs": [],
   "source": [
    "%matplotlib inline \n",
    "# import necessary libraries and specify that graphs should be plotted inline\n",
    "import numpy as np\n",
    "import pandas as pd\n",
    "import sklearn\n",
    "import mglearn\n",
    "import matplotlib.pyplot as plt\n",
    "\n",
    "import warnings\n",
    "warnings.filterwarnings('ignore')"
   ]
  },
  {
   "cell_type": "markdown",
   "metadata": {},
   "source": [
    "## Advanced Regression\n"
   ]
  },
  {
   "cell_type": "code",
   "execution_count": 2,
   "metadata": {},
   "outputs": [],
   "source": [
    "from sklearn.model_selection import train_test_split\n",
    "X, y = mglearn.datasets.make_wave(n_samples=60)\n",
    "\n",
    "# split the data into training and test set\n",
    "X_train, X_test, y_train, y_test = train_test_split(X, y, random_state=42)"
   ]
  },
  {
   "cell_type": "markdown",
   "metadata": {},
   "source": [
    "### Polynomial Regression\n",
    "\n"
   ]
  },
  {
   "cell_type": "code",
   "execution_count": 3,
   "metadata": {},
   "outputs": [
    {
     "name": "stdout",
     "output_type": "stream",
     "text": [
      "Best parameters:  {'polynomialfeatures__degree': 4}\n",
      "train score:  0.7366477110211134\n",
      "test score:  0.7475874000113643\n",
      "training results [0.66957342 0.67557511 0.70909723 0.73851526]\n",
      "testing results [0.60020021 0.60076585 0.61255923 0.64807278]\n",
      "Poly features:  5\n",
      "Coefficients:  [ 0.          0.58704946 -0.18335282 -0.03395163  0.02642799]\n"
     ]
    }
   ],
   "source": [
    "from sklearn.model_selection import GridSearchCV\n",
    "from sklearn.preprocessing  import PolynomialFeatures\n",
    "from sklearn.pipeline import make_pipeline\n",
    "from sklearn.linear_model import LinearRegression\n",
    "\n",
    "poly = PolynomialFeatures()\n",
    "lreg = LinearRegression()\n",
    "#define a list of parameters\n",
    "param_poly = {'polynomialfeatures__degree':range(1,5)}\n",
    "\n",
    "#apply polynomial regression in pipeline\n",
    "pipe_poly = make_pipeline(PolynomialFeatures(), LinearRegression())\n",
    "grid_poly = GridSearchCV(pipe_poly, param_poly,cv=5, n_jobs=-1, return_train_score = True)\n",
    "\n",
    "# GridSearchCV(estimator, param_grid, scoring=None, n_jobs=None, cv=’warn’, return_train_score=’warn’)\n",
    "#      estimator : estimator object.\n",
    "#      param_grid : dict or list of dictionaries\n",
    "#      scoring :If None, the estimator’s default scorer (if available) is used\n",
    "#      n_jobs: Number of jobs to run in parallel\n",
    "#      cv : Determines the cross-validation splitting strategy.\n",
    "#      return_train_score : If False, the cv_results_ attribute will not include training scores.\n",
    "\n",
    "\n",
    "grid_poly.fit(X_train, y_train)\n",
    "\n",
    "\n",
    "#find best parameters\n",
    "print('Best parameters: ', grid_poly.best_params_)\n",
    "\n",
    "\n",
    "print('train score: ', grid_poly.score(X_train, y_train))\n",
    "print('test score: ', grid_poly.score(X_test, y_test))\n",
    "\n",
    "print(\"training results\", grid_poly.cv_results_['mean_train_score'])\n",
    "print(\"testing results\", grid_poly.cv_results_['mean_test_score'])\n",
    "\n",
    "# print the coefficients\n",
    "print('Poly features: ', grid_poly.best_estimator_.named_steps['polynomialfeatures'].n_output_features_)\n",
    "print('Coefficients: ', grid_poly.best_estimator_.named_steps['linearregression'].coef_)"
   ]
  },
  {
   "cell_type": "code",
   "execution_count": 4,
   "metadata": {},
   "outputs": [
    {
     "data": {
      "text/plain": [
       "{'mean_fit_time': array([0.00100279, 0.00110312, 0.00100265, 0.00090241]),\n",
       " 'std_fit_time': array([3.69356475e-07, 3.75132717e-04, 3.23406696e-07, 3.75247455e-04]),\n",
       " 'mean_score_time': array([0.0005013 , 0.00190496, 0.00060158, 0.00070171]),\n",
       " 'std_score_time': array([1.16800773e-07, 2.80737877e-03, 2.00724623e-04, 2.45729479e-04]),\n",
       " 'param_polynomialfeatures__degree': masked_array(data=[1, 2, 3, 4],\n",
       "              mask=[False, False, False, False],\n",
       "        fill_value='?',\n",
       "             dtype=object),\n",
       " 'params': [{'polynomialfeatures__degree': 1},\n",
       "  {'polynomialfeatures__degree': 2},\n",
       "  {'polynomialfeatures__degree': 3},\n",
       "  {'polynomialfeatures__degree': 4}],\n",
       " 'split0_test_score': array([0.84554192, 0.83230337, 0.86397203, 0.89628135]),\n",
       " 'split1_test_score': array([0.58142366, 0.56509348, 0.5188232 , 0.5557927 ]),\n",
       " 'split2_test_score': array([0.69549465, 0.70830397, 0.76775823, 0.76258251]),\n",
       " 'split3_test_score': array([0.31079715, 0.3214205 , 0.24418549, 0.36828739]),\n",
       " 'split4_test_score': array([0.56774368, 0.57670795, 0.66805722, 0.65741997]),\n",
       " 'mean_test_score': array([0.60020021, 0.60076585, 0.61255923, 0.64807278]),\n",
       " 'std_test_score': array([0.17574624, 0.17032862, 0.21673062, 0.17977921]),\n",
       " 'rank_test_score': array([4, 3, 2, 1]),\n",
       " 'split0_train_score': array([0.60755133, 0.61744988, 0.64908822, 0.67837852]),\n",
       " 'split1_train_score': array([0.68397791, 0.69426936, 0.74516714, 0.77353698]),\n",
       " 'split2_train_score': array([0.64829825, 0.64980616, 0.67679869, 0.71480342]),\n",
       " 'split3_train_score': array([0.71753226, 0.72225109, 0.76625032, 0.78047092]),\n",
       " 'split4_train_score': array([0.69050735, 0.69409909, 0.70818176, 0.74538647]),\n",
       " 'mean_train_score': array([0.66957342, 0.67557511, 0.70909723, 0.73851526]),\n",
       " 'std_train_score': array([0.03806611, 0.03718559, 0.04292465, 0.03798076])}"
      ]
     },
     "execution_count": 4,
     "metadata": {},
     "output_type": "execute_result"
    }
   ],
   "source": [
    "# OUTPUT of GridSearchCV:\n",
    "#      cv_results_\n",
    "#      best_estimator_\n",
    "#      best_score_\n",
    "#      best_params_\n",
    "\n",
    "\n",
    "grid_poly.cv_results_\n",
    "#grid_poly.best_estimator_\n"
   ]
  },
  {
   "cell_type": "code",
   "execution_count": 5,
   "metadata": {},
   "outputs": [
    {
     "name": "stdout",
     "output_type": "stream",
     "text": [
      "Train MSE score 0.20428901086840767\n",
      "Test MSE score 0.292456453305418\n",
      "Train MAE score 0.36374762075965605\n",
      "Test MAE score 0.4248567100647222\n"
     ]
    }
   ],
   "source": [
    "#predictions using polynomial regression\n",
    "y_poly_train_predict = grid_poly.predict(X_train)\n",
    "y_poly_predict = grid_poly.predict(X_test)\n",
    "\n",
    "#MSE and MAE\n",
    "from sklearn.metrics.scorer import mean_squared_error as mse\n",
    "from sklearn.metrics.scorer import mean_absolute_error as mae\n",
    "\n",
    "print('Train MSE score', mse(y_poly_train_predict,y_train))\n",
    "print('Test MSE score',mse(y_poly_predict,y_test) )\n",
    "\n",
    "print('Train MAE score',mae(y_poly_train_predict,y_train))\n",
    "print('Test MAE score', mae(y_poly_predict,y_test))"
   ]
  },
  {
   "cell_type": "markdown",
   "metadata": {},
   "source": [
    "### Ridge Regression"
   ]
  },
  {
   "cell_type": "code",
   "execution_count": 6,
   "metadata": {},
   "outputs": [
    {
     "name": "stdout",
     "output_type": "stream",
     "text": [
      "Training set score: 0.89\n",
      "Test set score: 0.75\n"
     ]
    }
   ],
   "source": [
    "from sklearn.linear_model import Ridge\n",
    "\n",
    "X, y = mglearn.datasets.load_extended_boston()\n",
    "\n",
    "X_train, X_test, y_train, y_test = train_test_split(X, y, random_state=0)\n",
    "\n",
    "ridge = Ridge().fit(X_train, y_train)\n",
    "print(\"Training set score: {:.2f}\".format(ridge.score(X_train, y_train)))\n",
    "print(\"Test set score: {:.2f}\".format(ridge.score(X_test, y_test)))"
   ]
  },
  {
   "cell_type": "code",
   "execution_count": 7,
   "metadata": {},
   "outputs": [
    {
     "name": "stdout",
     "output_type": "stream",
     "text": [
      "train score:  0.9282273685001986\n",
      "test score:  0.7722067936479653\n",
      "best parameters: {'alpha': 0.1}\n",
      "Best cross-validation score: 0.8482741329711134\n"
     ]
    }
   ],
   "source": [
    "ridge = Ridge()\n",
    "\n",
    "#define a list of parameters\n",
    "param_ridge = {'alpha':[0.001, 0.01, 0.1, 1, 10, 100] }\n",
    "\n",
    "grid_ridge = GridSearchCV(ridge, param_ridge, cv=5, return_train_score = True)\n",
    "grid_ridge.fit(X_train, y_train)\n",
    "\n",
    "\n",
    "print('train score: ', grid_ridge.score(X_train, y_train))\n",
    "print('test score: ', grid_ridge.score(X_test, y_test))\n",
    "\n",
    "#find best parameters\n",
    "print('best parameters:',grid_ridge.best_params_)\n",
    "print('Best cross-validation score:', grid_ridge.best_score_)"
   ]
  },
  {
   "cell_type": "markdown",
   "metadata": {},
   "source": [
    "### Lasso"
   ]
  },
  {
   "cell_type": "code",
   "execution_count": 8,
   "metadata": {
    "scrolled": true
   },
   "outputs": [
    {
     "name": "stdout",
     "output_type": "stream",
     "text": [
      "Training set score: 0.29\n",
      "Test set score: 0.21\n",
      "Number of features used: 4\n"
     ]
    }
   ],
   "source": [
    "from sklearn.linear_model import Lasso\n",
    "\n",
    "lasso = Lasso().fit(X_train, y_train)\n",
    "print(\"Training set score: {:.2f}\".format(lasso.score(X_train, y_train)))\n",
    "print(\"Test set score: {:.2f}\".format(lasso.score(X_test, y_test)))\n",
    "print(\"Number of features used:\", np.sum(lasso.coef_ != 0))"
   ]
  },
  {
   "cell_type": "code",
   "execution_count": 9,
   "metadata": {},
   "outputs": [
    {
     "name": "stdout",
     "output_type": "stream",
     "text": [
      "train score:  0.9354593864534092\n",
      "test score:  0.7547974360305004\n",
      "Best parameters:  {'alpha': 0.001}\n",
      "Best cross-validation score: 0.8246310563979493\n"
     ]
    }
   ],
   "source": [
    "lasso = Lasso()\n",
    "\n",
    "#define a list of parameters\n",
    "param_lasso = {'alpha':[0.00001, 0.0001, 0.001, 0.01, 0.1, 1, 10] }\n",
    "\n",
    "grid_lasso = GridSearchCV(lasso, param_lasso, cv=5, return_train_score = True)\n",
    "grid_lasso.fit(X_train, y_train)\n",
    "\n",
    "\n",
    "print('train score: ', grid_lasso.score(X_train, y_train))\n",
    "print('test score: ', grid_lasso.score(X_test, y_test))\n",
    "\n",
    "#find best parameters\n",
    "print('Best parameters: ', grid_lasso.best_params_)\n",
    "print('Best cross-validation score:', grid_lasso.best_score_)"
   ]
  },
  {
   "cell_type": "markdown",
   "metadata": {},
   "source": [
    "## K-Nearest Neighbor"
   ]
  },
  {
   "cell_type": "markdown",
   "metadata": {},
   "source": [
    "### Example I"
   ]
  },
  {
   "cell_type": "code",
   "execution_count": 10,
   "metadata": {},
   "outputs": [
    {
     "data": {
      "text/plain": [
       "Text(0, 0.5, 'Second feature')"
      ]
     },
     "execution_count": 10,
     "metadata": {},
     "output_type": "execute_result"
    },
    {
     "data": {
      "image/png": "[encoded data removed]",
      "text/plain": [
       "<Figure size 432x288 with 1 Axes>"
      ]
     },
     "metadata": {
      "needs_background": "light"
     },
     "output_type": "display_data"
    }
   ],
   "source": [
    "X,y = mglearn.datasets.make_forge()\n",
    "mglearn.discrete_scatter(X[:,0],X[:,1],y)\n",
    "plt.legend([\"Class 0\",\"Class 1\"],loc=4);\n",
    "plt.xlabel(\"First feature\")\n",
    "plt.ylabel('Second feature')\n"
   ]
  },
  {
   "cell_type": "code",
   "execution_count": 11,
   "metadata": {},
   "outputs": [
    {
     "data": {
      "image/png": "[encoded data removed]",
      "text/plain": [
       "<Figure size 432x288 with 1 Axes>"
      ]
     },
     "metadata": {
      "needs_background": "light"
     },
     "output_type": "display_data"
    }
   ],
   "source": [
    "mglearn.plots.plot_knn_classification(n_neighbors = 1)\n",
    "#mglearn.plots.plot_knn_classification(n_neighbors = 3)"
   ]
  },
  {
   "cell_type": "code",
   "execution_count": 12,
   "metadata": {},
   "outputs": [
    {
     "name": "stdout",
     "output_type": "stream",
     "text": [
      "The k nearest neighbors (and the corresponding distances) to user [1, 1] are: (array([[7.70478347, 7.71204544, 7.82959548]]), array([[18, 14, 10]], dtype=int64))\n",
      "Test set predictions: [1 0 1 0 1 0 0]\n",
      "Test set accuracy: 0.86\n"
     ]
    }
   ],
   "source": [
    "from sklearn.model_selection import train_test_split\n",
    "X,y = mglearn.datasets.make_forge()\n",
    "\n",
    "X_train,X_test,y_train,y_test = train_test_split(X,y,random_state = 0)\n",
    "\n",
    "from sklearn.neighbors import KNeighborsClassifier\n",
    "\n",
    "# KNeighborsClassifier is implementing the k-nearest neighbors vote\n",
    "\n",
    "clf = KNeighborsClassifier(n_neighbors = 3)\n",
    "# Apart from the number of neighbors you can also specify the distance metric to be used\n",
    "# Wikipedia entry for k-nearest neighbors classifier: http://en.wikipedia.org/wiki/K-nearest_neighbor_algorithm\n",
    "clf.fit(X_train, y_train)\n",
    "\n",
    "print('The k nearest neighbors (and the corresponding distances) to user [1, 1] are:', clf.kneighbors([[1., 1.]]))\n",
    "\n",
    "print(\"Test set predictions:\", clf.predict(X_test))\n",
    "print(\"Test set accuracy: {:.2f}\".format(clf.score(X_test, y_test)))"
   ]
  },
  {
   "cell_type": "code",
   "execution_count": 13,
   "metadata": {},
   "outputs": [
    {
     "data": {
      "text/plain": [
       "<matplotlib.legend.Legend at 0x1fe98cb1cf8>"
      ]
     },
     "execution_count": 13,
     "metadata": {},
     "output_type": "execute_result"
    },
    {
     "data": {
      "image/png": "[encoded data removed]",
      "text/plain": [
       "<Figure size 720x216 with 3 Axes>"
      ]
     },
     "metadata": {},
     "output_type": "display_data"
    }
   ],
   "source": [
    "fig, axes = plt.subplots(1, 3, figsize=(10, 3));\n",
    "\n",
    "for n_neighbors, ax in zip([1, 3, 9], axes):\n",
    "    clf = KNeighborsClassifier(n_neighbors=n_neighbors).fit(X, y)\n",
    "    mglearn.plots.plot_2d_separator(clf, X, fill=True, eps=0.5, ax=ax, alpha=.4);\n",
    "    mglearn.discrete_scatter(X[:, 0], X[:, 1], y, ax=ax);\n",
    "    ax.set_title(\"{} neighbor(s)\".format(n_neighbors))\n",
    "    ax.set_xlabel(\"feature 0\")\n",
    "    ax.set_ylabel(\"feature 1\")\n",
    "axes[0].legend(loc=3)"
   ]
  },
  {
   "cell_type": "code",
   "execution_count": 14,
   "metadata": {},
   "outputs": [
    {
     "data": {
      "text/plain": [
       "<matplotlib.legend.Legend at 0x1fe98cfcc88>"
      ]
     },
     "execution_count": 14,
     "metadata": {},
     "output_type": "execute_result"
    },
    {
     "data": {
      "image/png": "[encoded data removed]",
      "text/plain": [
       "<Figure size 432x288 with 1 Axes>"
      ]
     },
     "metadata": {},
     "output_type": "display_data"
    }
   ],
   "source": [
    "numN = 3\n",
    "clf = KNeighborsClassifier(n_neighbors=numN).fit(X, y)\n",
    "mglearn.plots.plot_2d_separator(clf, X, fill=True, eps=0.5, alpha=.4);\n",
    "mglearn.discrete_scatter(X[:, 0], X[:, 1], y);\n",
    "plt.xlabel(\"Feature 0\")\n",
    "plt.ylabel(\"Feature 1\")\n",
    "plt.legend([\"Class 0\",\"Class 1\"],loc = 3)"
   ]
  },
  {
   "cell_type": "markdown",
   "metadata": {},
   "source": [
    "### Example II"
   ]
  },
  {
   "cell_type": "code",
   "execution_count": 15,
   "metadata": {},
   "outputs": [
    {
     "name": "stdout",
     "output_type": "stream",
     "text": [
      ".. _iris_dataset:\n",
      "\n",
      "Iris plants dataset\n",
      "--------------------\n",
      "\n",
      "**Data Set Characteristics:**\n",
      "\n",
      "    :Number of Instances: 150 (50 in each of three classes)\n",
      "    :Number of Attributes: 4 numeric, predictive attributes and the class\n",
      "    :Attribute Information:\n",
      "        - sepal length in cm\n",
      "        - sepal width in cm\n",
      "        - petal length in cm\n",
      "        - petal width in cm\n",
      "        - class:\n",
      "                - Iris-Setosa\n",
      "                - Iris-Versicolour\n",
      "                - Iris-Virginica\n",
      "                \n",
      "    :Summary Statistics:\n",
      "\n",
      "    ============== ==== ==== ======= ===== ====================\n",
      "                    Min  Max   Mean    SD   Class Correlation\n",
      "    ============== ==== ==== ======= ===== ====================\n",
      "    sepal length:   4.3  7.9   5.84   0.83    0.7826\n",
      "    sepal width:    2.0  4.4   3.05   0.43   -0.4194\n",
      "    petal length:   1.0  6.9   3.76   1.76    0.9490  (high!)\n",
      "    petal width:    0.1  2.5   1.20   0.76    0.9565  (high!)\n",
      "    ============== ==== ==== ======= ===== ====================\n",
      "\n",
      "    :Missing Attribute Values: None\n",
      "    :Class Distribution: 33.3% for each of 3 classes.\n",
      "    :Creator: R.A. Fisher\n",
      "    :Donor: Michael Marshall (MARSHALL%PLU@io.arc.nasa.gov)\n",
      "    :Date: July, 1988\n",
      "\n",
      "The famous Iris database, first used by Sir R.A. Fisher. The dataset is taken\n",
      "from Fisher's paper. Note that it's the same as in R, but not as in the UCI\n",
      "Machine Learning Repository, which has two wrong data points.\n",
      "\n",
      "This is perhaps the best known database to be found in the\n",
      "pattern recognition literature.  Fisher's paper is a classic in the field and\n",
      "is referenced frequently to this day.  (See Duda & Hart, for example.)  The\n",
      "data set contains 3 classes of 50 instances each, where each class refers to a\n",
      "type of iris plant.  One class is linearly separable from the other 2; the\n",
      "latter are NOT linearly separable from each other.\n",
      "\n",
      ".. topic:: References\n",
      "\n",
      "   - Fisher, R.A. \"The use of multiple measurements in taxonomic problems\"\n",
      "     Annual Eugenics, 7, Part II, 179-188 (1936); also in \"Contributions to\n",
      "     Mathematical Statistics\" (John Wiley, NY, 1950).\n",
      "   - Duda, R.O., & Hart, P.E. (1973) Pattern Classification and Scene Analysis.\n",
      "     (Q327.D83) John Wiley & Sons.  ISBN 0-471-22361-1.  See page 218.\n",
      "   - Dasarathy, B.V. (1980) \"Nosing Around the Neighborhood: A New System\n",
      "     Structure and Classification Rule for Recognition in Partially Exposed\n",
      "     Environments\".  IEEE Transactions on Pattern Analysis and Machine\n",
      "     Intelligence, Vol. PAMI-2, No. 1, 67-71.\n",
      "   - Gates, G.W. (1972) \"The Reduced Nearest Neighbor Rule\".  IEEE Transactions\n",
      "     on Information Theory, May 1972, 431-433.\n",
      "   - See also: 1988 MLC Proceedings, 54-64.  Cheeseman et al\"s AUTOCLASS II\n",
      "     conceptual clustering system finds 3 classes in the data.\n",
      "   - Many, many more ...\n"
     ]
    }
   ],
   "source": [
    "from matplotlib.colors import ListedColormap\n",
    "from sklearn import neighbors, datasets\n",
    "from sklearn.datasets import load_iris\n",
    "\n",
    "# load the dataset: load_iris() loads and returns the iris dataset\n",
    "iris = load_iris()\n",
    "# load_iris() returns a dictionary-like object. The interesting attributes are:\n",
    "# ‘data’, the data to learn,\n",
    "# ‘target’, the classification labels,\n",
    "# ‘target_names’, the meaning of the labels,\n",
    "# ‘feature_names’, the meaning of the features, and\n",
    "# ‘DESCR’, the full description of the dataset.\n",
    "# Wikipedia entry for this data set: https://en.wikipedia.org/wiki/Iris_flower_data_set\n",
    "\n",
    "print(iris.DESCR)"
   ]
  },
  {
   "cell_type": "code",
   "execution_count": 16,
   "metadata": {},
   "outputs": [
    {
     "name": "stdout",
     "output_type": "stream",
     "text": [
      "dict_keys(['data', 'target', 'target_names', 'DESCR', 'feature_names', 'filename'])\n",
      "The dimensions of the data set are 150 by 4\n",
      "The classes are: ['setosa' 'versicolor' 'virginica']\n",
      "The features in the data set are: ['sepal length (cm)', 'sepal width (cm)', 'petal length (cm)', 'petal width (cm)']\n"
     ]
    }
   ],
   "source": [
    "## Explore the data set\n",
    "n_samples, n_features = iris.data.shape\n",
    "print(iris.keys())\n",
    "print('The dimensions of the data set are', n_samples, 'by', n_features)\n",
    "# It is made of 150 observations of irises, each described by 4 features: their sepal and petal length and width, as detailed in iris.DESCR.\n",
    "\n",
    "#print(iris.data.shape)\n",
    "#print(iris.target.shape)\n",
    "print('The classes are:', iris.target_names)\n",
    "print('The features in the data set are:', iris.feature_names)\n",
    "\n",
    "# This data sets consists of 3 different types of irises’ (Setosa, Versicolour, and Virginica) petal and sepal length, stored\n",
    "# in a 150x4 numpy.ndarray\n",
    "# The rows being the samples and the columns being: Sepal Length, Sepal Width, Petal Length and Petal Width."
   ]
  },
  {
   "cell_type": "code",
   "execution_count": 17,
   "metadata": {},
   "outputs": [
    {
     "data": {
      "text/plain": [
       "([], <a list of 0 Text yticklabel objects>)"
      ]
     },
     "execution_count": 17,
     "metadata": {},
     "output_type": "execute_result"
    },
    {
     "data": {
      "image/png": "[encoded data removed]",
      "text/plain": [
       "<Figure size 576x432 with 1 Axes>"
      ]
     },
     "metadata": {},
     "output_type": "display_data"
    }
   ],
   "source": [
    "## Visualization of the data set\n",
    "from mpl_toolkits.mplot3d import Axes3D\n",
    "\n",
    "X = iris.data[:, :2] # we only take the first two features.\n",
    "Y = iris.target\n",
    "\n",
    "x_min, x_max = X[:, 0].min() - .5, X[:, 0].max() + .5\n",
    "y_min, y_max = X[:, 1].min() - .5, X[:, 1].max() + .5\n",
    "\n",
    "plt.figure(2, figsize=(8, 6))\n",
    "plt.clf()\n",
    "\n",
    "# Plot the training points\n",
    "plt.scatter(X[:, 0], X[:, 1], c=Y, cmap=plt.cm.Paired)\n",
    "plt.xlabel('Sepal length')\n",
    "plt.ylabel('Sepal width')\n",
    "\n",
    "plt.xlim(x_min, x_max)\n",
    "plt.ylim(y_min, y_max)\n",
    "plt.xticks(())\n",
    "plt.yticks(())"
   ]
  },
  {
   "cell_type": "code",
   "execution_count": 18,
   "metadata": {},
   "outputs": [
    {
     "name": "stdout",
     "output_type": "stream",
     "text": [
      "Test set predictions: [1 1 0 2 0 2 0 2 2 2 2 2 2 2 2 0 2 1 0 0 1 1 0 0 2 0 0 2 1 0 2 1 0 2 2 1 0\n",
      " 1]\n",
      "Test set accuracy: 0.71\n"
     ]
    }
   ],
   "source": [
    "# Train a k-NN model with k = 3\n",
    "n_neighbors = 3\n",
    "\n",
    "X_train,X_test,y_train,y_test = train_test_split(X,Y,random_state = 0)\n",
    "clf_train = KNeighborsClassifier(n_neighbors)\n",
    "clf_train.fit(X_train, y_train)\n",
    "\n",
    "print(\"Test set predictions:\", clf_train.predict(X_test))\n",
    "print(\"Test set accuracy: {:.2f}\".format(clf_train.score(X_test, y_test)))"
   ]
  },
  {
   "cell_type": "code",
   "execution_count": 19,
   "metadata": {},
   "outputs": [
    {
     "name": "stdout",
     "output_type": "stream",
     "text": [
      "train score:  0.8214285714285714\n",
      "test score:  0.8157894736842105\n"
     ]
    }
   ],
   "source": [
    "from sklearn.model_selection import GridSearchCV\n",
    "knn = KNeighborsClassifier()\n",
    "\n",
    "# define a list of parameters\n",
    "#param_knn = {'n_neighbors': [5, 10, 15, 20, 25, 30]}\n",
    "param_knn = {'n_neighbors': range(5,25,3)}\n",
    "\n",
    "#apply grid search\n",
    "grid_knn = GridSearchCV(knn, param_knn, cv=5, return_train_score=True)\n",
    "grid_knn.fit(X_train, y_train)\n",
    "\n",
    "print('train score: ', grid_knn.score(X_train, y_train))\n",
    "print('test score: ', grid_knn.score(X_test, y_test))\n"
   ]
  },
  {
   "cell_type": "code",
   "execution_count": 20,
   "metadata": {},
   "outputs": [
    {
     "data": {
      "text/plain": [
       "{'n_neighbors': 20}"
      ]
     },
     "execution_count": 20,
     "metadata": {},
     "output_type": "execute_result"
    }
   ],
   "source": [
    "grid_knn.best_params_"
   ]
  },
  {
   "cell_type": "code",
   "execution_count": 21,
   "metadata": {
    "scrolled": false
   },
   "outputs": [
    {
     "data": {
      "image/png": "[encoded data removed]",
      "text/plain": [
       "<Figure size 432x288 with 1 Axes>"
      ]
     },
     "metadata": {
      "needs_background": "light"
     },
     "output_type": "display_data"
    },
    {
     "data": {
      "image/png": "[encoded data removed]",
      "text/plain": [
       "<Figure size 432x288 with 1 Axes>"
      ]
     },
     "metadata": {
      "needs_background": "light"
     },
     "output_type": "display_data"
    }
   ],
   "source": [
    "## Visualization of the decision boundaries\n",
    "\n",
    "h = .02  # step size in the mesh\n",
    "\n",
    "# Create color maps\n",
    "cmap_light = ListedColormap(['#FFAAAA', '#AAFFAA', '#AAAAFF'])\n",
    "cmap_bold = ListedColormap(['#FF0000', '#00FF00', '#0000FF'])\n",
    "\n",
    "n_neighbors = 15\n",
    "for n_neighbors in [5,10]:\n",
    "    clf = neighbors.KNeighborsClassifier(n_neighbors)\n",
    "    clf.fit(X, Y) \n",
    "\n",
    "    # Plot the decision boundary. \n",
    "    # For that, we will assign a color to each point in the mesh [x_min, m_max]x[y_min, y_max].\n",
    "    x_min, x_max = X[:, 0].min() - 1, X[:, 0].max() + 1\n",
    "    y_min, y_max = X[:, 1].min() - 1, X[:, 1].max() + 1\n",
    "    xx, yy = np.meshgrid(np.arange(x_min, x_max, h),\n",
    "                         np.arange(y_min, y_max, h))\n",
    "    Z = clf.predict(np.c_[xx.ravel(), yy.ravel()])\n",
    "\n",
    "    # Put the result into a color plot\n",
    "    Z = Z.reshape(xx.shape)\n",
    "    plt.figure()\n",
    "    plt.pcolormesh(xx, yy, Z, cmap=cmap_light)\n",
    "\n",
    "    # Plot also the training points\n",
    "    plt.scatter(X[:, 0], X[:, 1], c=Y, cmap=cmap_bold)\n",
    "    plt.xlim(xx.min(), xx.max())\n",
    "    plt.ylim(yy.min(), yy.max())\n",
    "    plt.title(\"3-Class classification (k = %i')\"%n_neighbors)\n",
    "\n",
    "plt.show()\n",
    "\n"
   ]
  }
 ],
 "metadata": {
  "kernelspec": {
   "display_name": "Python 3",
   "language": "python",
   "name": "python3"
  },
  "language_info": {
   "codemirror_mode": {
    "name": "ipython",
    "version": 3
   },
   "file_extension": ".py",
   "mimetype": "text/x-python",
   "name": "python",
   "nbconvert_exporter": "python",
   "pygments_lexer": "ipython3",
   "version": "3.7.3"
  }
 },
 "nbformat": 4,
 "nbformat_minor": 2
}
