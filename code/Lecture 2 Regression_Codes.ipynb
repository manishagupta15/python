{
 "cells": [
  {
   "cell_type": "code",
   "execution_count": 1,
   "metadata": {},
   "outputs": [],
   "source": [
    "%matplotlib inline \n",
    "# import necessary libraries and specify that graphs should be plotted inline\n",
    "import numpy as np\n",
    "import pandas as pd\n",
    "import sklearn\n",
    "import mglearn\n",
    "import matplotlib.pyplot as plt\n",
    "\n",
    "import warnings\n",
    "warnings.filterwarnings('ignore')\n"
   ]
  },
  {
   "cell_type": "markdown",
   "metadata": {},
   "source": [
    "# Regression"
   ]
  },
  {
   "cell_type": "markdown",
   "metadata": {},
   "source": [
    "### Linear Regression\n"
   ]
  },
  {
   "cell_type": "code",
   "execution_count": 2,
   "metadata": {},
   "outputs": [
    {
     "name": "stdout",
     "output_type": "stream",
     "text": [
      "w[0]: 0.393906  b: -0.031804\n"
     ]
    },
    {
     "data": {
      "image/png": "[encoded data removed]",
      "text/plain": [
       "<Figure size 576x576 with 1 Axes>"
      ]
     },
     "metadata": {
      "needs_background": "light"
     },
     "output_type": "display_data"
    }
   ],
   "source": [
    "mglearn.plots.plot_linear_regression_wave()"
   ]
  },
  {
   "cell_type": "code",
   "execution_count": 3,
   "metadata": {},
   "outputs": [
    {
     "name": "stdout",
     "output_type": "stream",
     "text": [
      "lr.coef_: [0.39390555]\n",
      "lr.intercept_: -0.031804343026759746\n",
      "Training set score: 0.67\n",
      "Test set score: 0.66\n"
     ]
    }
   ],
   "source": [
    "from sklearn.linear_model import LinearRegression\n",
    "from sklearn.model_selection import train_test_split\n",
    "X, y = mglearn.datasets.make_wave(n_samples=60)\n",
    "\n",
    "# Devide the dataset into training and testing sets\n",
    "X_train, X_test, y_train, y_test = train_test_split(X, y, random_state=42)\n",
    "\n",
    "# Train a linear regression model\n",
    "\n",
    "lr = LinearRegression().fit(X_train, y_train)\n",
    "\n",
    "\n",
    "# print the coefficients and model performance\n",
    "\n",
    "print(\"lr.coef_:\", lr.coef_)\n",
    "print(\"lr.intercept_:\", lr.intercept_)\n",
    "\n",
    "print(\"Training set score: {:.2f}\".format(lr.score(X_train, y_train)))\n",
    "print(\"Test set score: {:.2f}\".format(lr.score(X_test, y_test)))"
   ]
  },
  {
   "cell_type": "code",
   "execution_count": 4,
   "metadata": {},
   "outputs": [
    {
     "name": "stdout",
     "output_type": "stream",
     "text": [
      "lr.intercept_: 30.934563673642856\n",
      "Training set score: 0.95\n",
      "Test set score: 0.61\n"
     ]
    }
   ],
   "source": [
    "X, y = mglearn.datasets.load_extended_boston()\n",
    "\n",
    "# Devide the dataset into training and testing sets\n",
    "\n",
    "X_train, X_test, y_train, y_test = train_test_split(X, y, random_state=0)\n",
    "lr = LinearRegression().fit(X_train, y_train)\n",
    "\n",
    "#print(\"lr.coef_:\", lr.coef_)\n",
    "print(\"lr.intercept_:\", lr.intercept_)\n",
    "\n",
    "print(\"Training set score: {:.2f}\".format(lr.score(X_train, y_train)))\n",
    "print(\"Test set score: {:.2f}\".format(lr.score(X_test, y_test)))\n",
    "\n"
   ]
  },
  {
   "cell_type": "markdown",
   "metadata": {},
   "source": [
    "### Logistic Regression"
   ]
  },
  {
   "cell_type": "code",
   "execution_count": 5,
   "metadata": {},
   "outputs": [
    {
     "data": {
      "text/plain": [
       "<matplotlib.legend.Legend at 0x1cfc279d128>"
      ]
     },
     "execution_count": 5,
     "metadata": {},
     "output_type": "execute_result"
    },
    {
     "data": {
      "image/png": "[encoded data removed]",
      "text/plain": [
       "<Figure size 432x288 with 1 Axes>"
      ]
     },
     "metadata": {},
     "output_type": "display_data"
    }
   ],
   "source": [
    "from sklearn.linear_model import LogisticRegression\n",
    "\n",
    "X, y = mglearn.datasets.make_forge()\n",
    "\n",
    "clf = LogisticRegression().fit(X, y)\n",
    "mglearn.plots.plot_2d_separator(clf, X, fill=False, eps=0.5)\n",
    "mglearn.discrete_scatter(X[:, 0], X[:, 1], y)\n",
    "plt.xlabel(\"Feature 0\")\n",
    "plt.ylabel(\"Feature 1\")\n",
    "plt.legend(loc = 4)"
   ]
  },
  {
   "cell_type": "code",
   "execution_count": 6,
   "metadata": {},
   "outputs": [
    {
     "name": "stdout",
     "output_type": "stream",
     "text": [
      "lr.coef_: [[ 1.90613069e+00  9.97890301e-02 -7.19389251e-02  9.12031439e-04\n",
      "  -1.40951111e-01 -3.86590685e-01 -5.75034123e-01 -2.88431252e-01\n",
      "  -2.30520072e-01 -3.53058155e-02 -1.73994173e-03  1.26447382e+00\n",
      "   7.38500835e-02 -9.49597136e-02 -1.36488841e-02 -1.94012808e-02\n",
      "  -5.35889090e-02 -3.38718491e-02 -4.14976624e-02  2.30453547e-03\n",
      "   1.20270257e+00 -3.19643161e-01 -9.29150217e-02 -2.63436000e-02\n",
      "  -2.51090638e-01 -1.24382224e+00 -1.58709639e+00 -5.89507446e-01\n",
      "  -6.99229536e-01 -1.31174262e-01]]\n",
      "lr.intercept_: [0.35088133]\n",
      "Training set score: 0.953\n",
      "Test set score: 0.958\n"
     ]
    }
   ],
   "source": [
    "from sklearn.datasets import load_breast_cancer\n",
    "cancer = load_breast_cancer()\n",
    "\n",
    "X_train, X_test, y_train, y_test = train_test_split(\n",
    "    cancer.data, cancer.target, stratify=cancer.target, random_state=42)\n",
    "logreg = LogisticRegression().fit(X_train, y_train)\n",
    "\n",
    "print(\"lr.coef_:\", logreg.coef_)\n",
    "print(\"lr.intercept_:\", logreg.intercept_)\n",
    "\n",
    "print(\"Training set score: {:.3f}\".format(logreg.score(X_train, y_train)))\n",
    "print(\"Test set score: {:.3f}\".format(logreg.score(X_test, y_test)))\n",
    "\n",
    "\n",
    "\n"
   ]
  },
  {
   "cell_type": "markdown",
   "metadata": {},
   "source": [
    "## Gradient Descent"
   ]
  },
  {
   "cell_type": "code",
   "execution_count": 7,
   "metadata": {},
   "outputs": [
    {
     "name": "stdout",
     "output_type": "stream",
     "text": [
      "SGD coefficients:  [0.39670463]\n",
      "--- Execution time of SGD: 0.06979632377624512 seconds ---\n",
      "LR coefficients:  [0.39670463]\n",
      "--- Execution time of LR: 0.0 seconds ---\n"
     ]
    }
   ],
   "source": [
    "from sklearn.linear_model import LinearRegression\n",
    "from sklearn.model_selection import train_test_split\n",
    "import time\n",
    "X, y = mglearn.datasets.make_wave(n_samples=60)\n",
    "#X, y = mglearn.datasets.load_extended_boston()\n",
    "\n",
    "# Devide the dataset into training and testing sets\n",
    "X_train, X_test, y_train, y_test = train_test_split(X, y, random_state=42)\n",
    "\n",
    "eta = 0.05\n",
    "\n",
    "n_iterations = 10000\n",
    "m = 100\n",
    "\n",
    "theta = np.random.randn(X_train.shape[1])\n",
    "\n",
    "start_time = time.time()\n",
    "\n",
    "\n",
    "for iteration in range(n_iterations):\n",
    "    gradients = 2/m * X_train.T.dot(X_train.dot(theta) - y_train)\n",
    "    theta = theta - eta * gradients\n",
    "\n",
    "print('SGD coefficients: ',theta)\n",
    "print(\"--- Execution time of SGD: %s seconds ---\" % (time.time() - start_time))\n",
    "\n",
    "\n",
    "\n",
    "start_time = time.time()\n",
    "\n",
    "lr = LinearRegression().fit(X_train, y_train)\n",
    "print('LR coefficients: ',theta)\n",
    "print(\"--- Execution time of LR: %s seconds ---\" % (time.time() - start_time))\n",
    "\n"
   ]
  },
  {
   "cell_type": "code",
   "execution_count": 8,
   "metadata": {},
   "outputs": [
    {
     "name": "stdout",
     "output_type": "stream",
     "text": [
      "sgd.intercept_: [3.03805372]\n",
      "--- Execution time: 0.11167192459106445 seconds ---\n"
     ]
    }
   ],
   "source": [
    "from sklearn.linear_model import SGDRegressor\n",
    "\n",
    "\n",
    "n_samples, n_features = 1000, 500\n",
    "np.random.seed(0)\n",
    "\n",
    "X = np.random.randn(n_samples, n_features)\n",
    "theta = np.random.rand(n_features)\n",
    "y = 3 + X.dot(theta) + np.random.randn(n_samples)\n",
    "\n",
    "\n",
    "sgd_reg = SGDRegressor(max_iter=1000, tol = 1e-5, eta0=0.01)\n",
    "\n",
    "start_time = time.time()\n",
    "sgd_reg.fit(X, y)\n",
    "\n",
    "\n",
    "print(\"sgd.intercept_:\", sgd_reg.intercept_)\n",
    "#print(\"sgd.coef_:\", sgd_reg.coef_)\n",
    "print(\"--- Execution time: %s seconds ---\" % (time.time() - start_time))"
   ]
  },
  {
   "cell_type": "code",
   "execution_count": 9,
   "metadata": {},
   "outputs": [
    {
     "name": "stdout",
     "output_type": "stream",
     "text": [
      "lr.intercept_: 3.033887309310786\n",
      "--- Execution time: 0.18844985961914062 seconds ---\n"
     ]
    }
   ],
   "source": [
    "start_time = time.time()\n",
    "lr = LinearRegression().fit(X, y)\n",
    "\n",
    "#print(\"lr.coef_:\", lr.coef_)\n",
    "print(\"lr.intercept_:\", lr.intercept_)\n",
    "print(\"--- Execution time: %s seconds ---\" % (time.time() - start_time))"
   ]
  }
 ],
 "metadata": {
  "kernelspec": {
   "display_name": "Python 3",
   "language": "python",
   "name": "python3"
  },
  "language_info": {
   "codemirror_mode": {
    "name": "ipython",
    "version": 3
   },
   "file_extension": ".py",
   "mimetype": "text/x-python",
   "name": "python",
   "nbconvert_exporter": "python",
   "pygments_lexer": "ipython3",
   "version": "3.7.3"
  }
 },
 "nbformat": 4,
 "nbformat_minor": 2
}
